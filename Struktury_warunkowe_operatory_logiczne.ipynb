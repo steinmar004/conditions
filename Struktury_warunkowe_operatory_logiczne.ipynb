{
 "cells": [
  {
   "cell_type": "code",
   "execution_count": 2,
   "metadata": {},
   "outputs": [
    {
     "name": "stdout",
     "output_type": "stream",
     "text": [
      "Jestem programem, który sprawdzi poprawność Twioch typów do 'trójki pitagoryjskiej'\n",
      "Twoje typy przyprostokątnych i przeciwprostokątnej są okej.Są to: a= 3, b= 4 i c= 5\n"
     ]
    }
   ],
   "source": [
    "'''\n",
    "Napisz program, który dla trzech liczb a, b i c wprowadzonych z klawiatury sprawdza czy są to trójki pitagorasowe. Dodatkowo należy założyć, że a>0, b>0, c>0.\n",
    "'''\n",
    "print(\"Jestem programem, który sprawdzi poprawność Twioch typów do 'trójki pitagoryjskiej'\")\n",
    "a = int(input(\"Podaj pierwszą liczbę, która jest bokiem trójkąta: \"))\n",
    "b = int(input(\"Podaj drugą liczbę, która jest bokiem trójkąta: \"))\n",
    "c = int(input(\"Podaj trzecią liczbę, która jest bokiem trójkąta: \"))\n",
    "\n",
    "if a * a + b * b == c * c:\n",
    "    print(f\"Twoje typy przyprostokątnych i przeciwprostokątnej są okej.Są to: a= {a}, b= {b} i c= {c}.\")\n",
    "else:\n",
    "    print(\"Nie trafiłeś.\")\n"
   ]
  },
  {
   "cell_type": "code",
   "execution_count": 1,
   "metadata": {},
   "outputs": [
    {
     "name": "stdout",
     "output_type": "stream",
     "text": [
      "Jestem programem, który obliczy wartość x z równania 'ax + b = c', z danych podanych przez Ciebie, drogi użytkowniku.\n",
      "Wprowadzone przez Ciebie dane to: a= 2.00, b= 3.00 i c= 4.00.\n",
      "Wynikiem tego działania jest: 0.50\n"
     ]
    }
   ],
   "source": [
    "'''\n",
    "Napisz program, który oblicza wartość x z równania ax + b = c. Wartości a, b i c należą do zbioru liczb rzeczywistych i są wprowadzane z kalwiatury. Dodatkowo należy zabezpieczyć program\n",
    "na wypadek sytuacji, kiedy wprowadzana wartość a jest równa 0. Dla zmiennych a, b i c oraz x należy przyjąć format wyświetlania ich z dokładnośćią do dwóch miejsc po przecinku.\n",
    "'''                                                                         # 'a'x + b = c\n",
    "# a =! 0\n",
    "# a, b, c, x = (f\"{:.2f})\n",
    "print(\"Jestem programem, który obliczy wartość x z równania 'ax + b = c', z danych podanych przez Ciebie, drogi użytkowniku.\")\n",
    "a = float(input(\"Drogi użytkowniku, podaj zmienną a:\\n\"))\n",
    "if a == 0:\n",
    "    print(\"Nie dziel przez zero!\")\n",
    "else:\n",
    "    b= float(input(\"Drogi użytkowniku, podaj zmienną b:\\n\"))\n",
    "    c= float(input(\"Drogi użytkowniku, podaj zmienną c:\\n\"))\n",
    "print(\"Wprowadzone przez Ciebie dane to:\", end = ' ')\n",
    "print(f\"a= {a:.2f}, b= {b:.2f} i c= {c:.2f}.\")\n",
    "print(\"Wynikiem tego działania jest:\", end = ' ')\n",
    "x= (c-b) / a\n",
    "print(f\"{x:.2f}\")\n"
   ]
  },
  {
   "cell_type": "code",
   "execution_count": 3,
   "metadata": {},
   "outputs": [
    {
     "name": "stdout",
     "output_type": "stream",
     "text": [
      "Mój drogi użytkowniku, jestem programem, który obliczy Tobie pierwiastki trójmianu kwadratowego.\n",
      "Okej, podałeś następujące zmienne: 2.0, 9.0, 3.0.\n",
      "Oto wyniki: x1= -10.89 i x2= -7.11.\n"
     ]
    }
   ],
   "source": [
    "'''\n",
    "Napisz program, który oblicza pierwiastki równania kwadratowego ax^2 + bx + c = 0, gdzie zmiennea,b,c to liczby rzeczywiste wprowadzane z kalwiatury.\n",
    "Dla zmiennych a,b,c,x'1' oraz x'2' należy przyjąć format wyświetlania ich na ekranie z dokładnością do dwóch miejsc po kropce. \n",
    "'''\n",
    "#                   ax^2 + bx + c = 0\n",
    "#                   delta= b^2 - 4 * a * c i delta > 0, print(f\"#{delta:.2f}.\")\n",
    "#                   x1= (-b - ((delta)**0.5) / (2 * a)), pierw_delty = delta ** 0.5\n",
    "#                   x2= (-b + ((delta)**0.5) / (2 * a))\n",
    "#                   a =! 0 \n",
    "print(\"Mój drogi użytkowniku, jestem programem, który obliczy Tobie pierwiastki trójmianu kwadratowego.\")\n",
    "a = float(input(\"Drogi użytkowniku, podaj proszę zmienną a: \\n\"))\n",
    "if a == 0:\n",
    "    print(\"Nie dziel przez zero!\")\n",
    "    exit()\n",
    "else:\n",
    "    b = float(input(\"Drogi użytkowniku, podaj proszę zmienną b: \\n\"))\n",
    "    c = float(input(\"Drogi użytkowniku, podaj proszę zmienną c: \\n\"))\n",
    "    print(f\"Okej, podałeś następujące zmienne: {a}, {b}, {c}.\")\n",
    "    delta = b * b - 4 * a * c\n",
    "    if delta > 0:\n",
    "        x1= (-b - ((delta)**0.5) / (2 * a))\n",
    "        x2 = (-b + ((delta)**0.5) / (2 * a))\n",
    "        print(f\"Oto wyniki: x1= {x1:.2f} i x2= {x2:.2f}.\")\n",
    "    else:\n",
    "        print(\"Ujemna delta: to się nie uda!\")\n",
    "        \n"
   ]
  },
  {
   "cell_type": "code",
   "execution_count": 8,
   "metadata": {},
   "outputs": [
    {
     "name": "stdout",
     "output_type": "stream",
     "text": [
      "Wymienione imiona:Mirek i Marek różnią się od siebie.\n"
     ]
    }
   ],
   "source": [
    "'''\n",
    "Napisz program, który korzystając z instrukcji if-else, porównuje ze sobą dwa imiona: Mirek i Marek.\n",
    "'''                                                     # jeśli porównuje stringi to wystarczy że są w '    '\n",
    "name_1 = 'Mirek'\n",
    "name_2 = 'Marek'\n",
    "if name_1 == name_2:\n",
    "    print(\"Brawo, trafione imiona\")\n",
    "else:\n",
    "    print(f\"Wymienione imiona: {name_1} i {name_2} różnią się od siebie.\")"
   ]
  },
  {
   "cell_type": "code",
   "execution_count": 7,
   "metadata": {},
   "outputs": [
    {
     "name": "stdout",
     "output_type": "stream",
     "text": [
      "Niestety, wprowadziłeś niepoprawne dane.\n"
     ]
    }
   ],
   "source": [
    "'''\n",
    "Napisz program, który korzystając z instrukcji if-else, weryfikuje wprowadzane hasło.\n",
    "'''                                             \n",
    "password = input(\"Drogi użytkowniku, poproszę Ciebie teraz o podanie hasła dostępu: > :\")\n",
    "if password == 'imienienazwisko':                                   # oszczędzam miejsce, w warunku napis ujety w ' ', nie tworzę zmiennej\n",
    "    print(f\"Dzięki, dane do logowania: {password}, są poprawne.\")\n",
    "else:\n",
    "    print(\"Niestety, wprowadziłeś niepoprawne dane.\")"
   ]
  }
 ],
 "metadata": {
  "kernelspec": {
   "display_name": "Python 3",
   "language": "python",
   "name": "python3"
  },
  "language_info": {
   "codemirror_mode": {
    "name": "ipython",
    "version": 3
   },
   "file_extension": ".py",
   "mimetype": "text/x-python",
   "name": "python",
   "nbconvert_exporter": "python",
   "pygments_lexer": "ipython3",
   "version": "3.11.0"
  },
  "orig_nbformat": 4,
  "vscode": {
   "interpreter": {
    "hash": "4d305d8e74976d6f8032662dc6dd70f367e051d51b86f1f8658b6f60c16d4b3f"
   }
  }
 },
 "nbformat": 4,
 "nbformat_minor": 2
}
